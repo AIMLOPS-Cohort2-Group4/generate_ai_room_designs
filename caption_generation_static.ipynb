{
 "cells": [
  {
   "cell_type": "code",
   "execution_count": 6,
   "metadata": {},
   "outputs": [],
   "source": [
    "import os\n",
    "import json\n",
    "from PIL import Image\n",
    "import torch\n",
    "# from torchvision import transforms\n",
    "from transformers import BlipProcessor, BlipForConditionalGeneration\n",
    "from alive_progress import alive_bar\n",
    "import time\n"
   ]
  },
  {
   "attachments": {},
   "cell_type": "markdown",
   "metadata": {},
   "source": [
    "Pre-processing pickle files to extract caption"
   ]
  },
  {
   "cell_type": "code",
   "execution_count": 7,
   "metadata": {},
   "outputs": [],
   "source": [
    "main_path = \"/Users/samankhan/Documents/capstone_project/Github_project/generate_ai_room_designs/\"\n"
   ]
  },
  {
   "cell_type": "code",
   "execution_count": 8,
   "metadata": {},
   "outputs": [],
   "source": [
    "# Define paths\n",
    "import pickle\n",
    "text_path = os.path.join(main_path,'data/extracted_data/ikea-master/text_data/')\n",
    "save_path = os.path.join(main_path,'data/extracted_data/ikea_processed_data/pickle_processed/')\n",
    "\n",
    "pickle_files = os.listdir(text_path)"
   ]
  },
  {
   "cell_type": "code",
   "execution_count": 14,
   "metadata": {},
   "outputs": [
    {
     "name": "stdout",
     "output_type": "stream",
     "text": [
      "extracting products_dict.p pickle file\n",
      "Annotations file created at: /Users/samankhan/Documents/capstone_project/Github_project/generate_ai_room_designs/data/extracted_data/ikea_processed_data/pickle_processed/\n"
     ]
    }
   ],
   "source": [
    "for pickle_file in pickle_files[:1]:\n",
    "    print('extracting {} pickle file'.format(pickle_file))\n",
    "    with open(os.path.join(text_path,pickle_file), 'rb') as file:\n",
    "        deserialized_data = pickle.load(file)\n",
    "\n",
    "annotations = []\n",
    "for item_id, details in deserialized_data.items():\n",
    "    annotations.append({\n",
    "        \"file_name\" : item_id+'.jpg',\n",
    "        \"desc\" : details[\"desc\"]\n",
    "    })\n",
    "\n",
    "with open(os.path.join(save_path,pickle_file.replace('.p','.json')), 'w') as annotations_file:\n",
    "    json.dump(annotations, annotations_file, indent=4)\n",
    "\n",
    "print(f\"Annotations file created at: {save_path}\")\n",
    "        "
   ]
  },
  {
   "cell_type": "code",
   "execution_count": 13,
   "metadata": {},
   "outputs": [
    {
     "data": {
      "text/plain": [
       "'img_to_desc.p'"
      ]
     },
     "execution_count": 13,
     "metadata": {},
     "output_type": "execute_result"
    }
   ],
   "source": [
    "pickle_file"
   ]
  },
  {
   "cell_type": "code",
   "execution_count": 15,
   "metadata": {},
   "outputs": [
    {
     "name": "stdout",
     "output_type": "stream",
     "text": [
      "extracting products_dict.p pickle file\n",
      "extracting img_to_desc.p pickle file\n"
     ]
    }
   ],
   "source": [
    "for pickle_file in pickle_files[:2]:\n",
    "    print('extracting {} pickle file'.format(pickle_file))\n",
    "    with open(os.path.join(text_path,pickle_file), 'rb') as file:\n",
    "        deserialized_data = pickle.load(file)\n"
   ]
  },
  {
   "cell_type": "code",
   "execution_count": 16,
   "metadata": {},
   "outputs": [],
   "source": [
    "annotations  = []                                            \n",
    "for item_id, details  in deserialized_data.items():\n",
    "    file_name = item_id.split('/')[-1]\n",
    "    annotations.append({\n",
    "        \"file_name\" : file_name,\n",
    "        \"desc\" : details['desc']\n",
    "    })"
   ]
  },
  {
   "cell_type": "code",
   "execution_count": 18,
   "metadata": {},
   "outputs": [
    {
     "name": "stdout",
     "output_type": "stream",
     "text": [
      "Annotations file created at: /Users/samankhan/Documents/capstone_project/Github_project/generate_ai_room_designs/data/extracted_data/ikea_processed_data/pickle_processed/\n"
     ]
    }
   ],
   "source": [
    "with open(os.path.join(save_path,pickle_file.replace('.p','.json')), 'w') as annotations_file:\n",
    "    json.dump(annotations, annotations_file, indent=4)\n",
    "\n",
    "print(f\"Annotations file created at: {save_path}\")"
   ]
  },
  {
   "cell_type": "code",
   "execution_count": 24,
   "metadata": {},
   "outputs": [
    {
     "name": "stdout",
     "output_type": "stream",
     "text": [
      "extracting products_dict.p pickle file\n",
      "extracting img_to_desc.p pickle file\n",
      "extracting categories_images_dict.p pickle file\n",
      "Annotations file created at: /Users/samankhan/Documents/capstone_project/Github_project/generate_ai_room_designs/data/extracted_data/ikea_processed_data/pickle_processed/\n"
     ]
    }
   ],
   "source": [
    "for pickle_file in pickle_files[:3]:\n",
    "    print('extracting {} pickle file'.format(pickle_file))\n",
    "    with open(os.path.join(text_path,pickle_file), 'rb') as file:\n",
    "        deserialized_data = pickle.load(file)\n",
    "\n",
    "annotations  = []                                            \n",
    "for item_id, details  in deserialized_data.items():\n",
    "    # file_name = item_id.split('/')[-1]\n",
    "    annotations.append({\n",
    "        \"file_name\" : item_id+'.jpg',\n",
    "        \"desc\" : details\n",
    "    })\n",
    "with open(os.path.join(save_path,pickle_file.replace('.p','.json')), 'w') as annotations_file:\n",
    "    json.dump(annotations, annotations_file, indent=4)\n",
    "\n",
    "print(f\"Annotations file created at: {save_path}\")\n"
   ]
  },
  {
   "cell_type": "code",
   "execution_count": null,
   "metadata": {},
   "outputs": [],
   "source": []
  },
  {
   "cell_type": "code",
   "execution_count": null,
   "metadata": {},
   "outputs": [],
   "source": []
  }
 ],
 "metadata": {
  "kernelspec": {
   "display_name": "Python 3",
   "language": "python",
   "name": "python3"
  },
  "language_info": {
   "codemirror_mode": {
    "name": "ipython",
    "version": 3
   },
   "file_extension": ".py",
   "mimetype": "text/x-python",
   "name": "python",
   "nbconvert_exporter": "python",
   "pygments_lexer": "ipython3",
   "version": "3.10.2"
  },
  "orig_nbformat": 4
 },
 "nbformat": 4,
 "nbformat_minor": 2
}
